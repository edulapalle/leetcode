{
 "cells": [
  {
   "cell_type": "code",
   "execution_count": 99,
   "metadata": {
    "collapsed": true
   },
   "outputs": [],
   "source": [
    "def createNewStr(palindromeStr,i):\n",
    "    newStr = \"\"\n",
    "    for x in range(i,len(palindromeStr)-1):\n",
    "        if palindromeStr[x] >= palindromeStr[x+1]:\n",
    "            L = palindromeStr[:x]\n",
    "            R = palindromeStr[x+1:]\n",
    "            newStr = L+'a'+R\n",
    "            break\n",
    "    return newStr\n",
    "\n",
    "def breakPalindrome(palindromeStr):\n",
    "    # Write your code here\n",
    "    #change character\n",
    "    newStr = createNewStr(palindromeStr,i=0)\n",
    "    # for i in range(len(palindromeStr)-1):\n",
    "    #     if palindromeStr[i] >= palindromeStr[i+1]:\n",
    "    #         L = palindromeStr[:i]\n",
    "    #         R = palindromeStr[i+1:]\n",
    "    #         newStr = L+'a'+R\n",
    "    #         break\n",
    "\n",
    "    #print(\"reverse\",revStr)\n",
    "    for i in range(len(palindromeStr)):\n",
    "        revStr = newStr[::-1]\n",
    "        if newStr == revStr:\n",
    "            newStr = createNewStr(palindromeStr,i)\n",
    "            if i == len(palindromeStr)-1:\n",
    "                return 'IMPOSSIBLE'\n",
    "    for i in range(len(palindromeStr)):\n",
    "        if newStr[i]>palindromeStr[i]:\n",
    "            return 'IMPOSSIBLE'\n",
    "\n",
    "    for i in range(len(palindromeStr)-1):\n",
    "        if palindromeStr[i] != 'a':\n",
    "            L = palindromeStr[:i]\n",
    "            R = palindromeStr[i+1:]\n",
    "            newStr = L+'a'+R\n",
    "            break\n",
    "    return newStr\n"
   ]
  },
  {
   "cell_type": "code",
   "execution_count": 100,
   "outputs": [
    {
     "data": {
      "text/plain": "'abf'"
     },
     "execution_count": 100,
     "metadata": {},
     "output_type": "execute_result"
    }
   ],
   "source": [
    "str1 = 'abcdefghgfedcba'\n",
    "str2 = 'aaabbaaa'\n",
    "str3 = 'aabaa'\n",
    "str = 'fbf'\n",
    "breakPalindrome(str)"
   ],
   "metadata": {
    "collapsed": false
   }
  },
  {
   "cell_type": "code",
   "execution_count": 101,
   "outputs": [],
   "source": [
    "\n",
    "def breakPalindrome1(palindrome) :\n",
    "    n = len(palindrome)\n",
    "    for i in range(n//2):\n",
    "        if palindrome[i] != 'a':\n",
    "            return palindrome.replace(palindrome[i], 'a', 1)\n",
    "    return palindrome[:-1] + 'b' if n > 1 else \"\""
   ],
   "metadata": {
    "collapsed": false
   }
  },
  {
   "cell_type": "code",
   "execution_count": 102,
   "outputs": [
    {
     "data": {
      "text/plain": "'aacdefghgfedcba'"
     },
     "execution_count": 102,
     "metadata": {},
     "output_type": "execute_result"
    }
   ],
   "source": [
    "str1 = 'abcdefghgfedcba'\n",
    "str2 = 'aaabbaaa'\n",
    "str3 = 'aabaa'\n",
    "str = 'fbf'\n",
    "breakPalindrome1(str1)"
   ],
   "metadata": {
    "collapsed": false
   }
  },
  {
   "cell_type": "code",
   "execution_count": 102,
   "outputs": [],
   "source": [],
   "metadata": {
    "collapsed": false
   }
  }
 ],
 "metadata": {
  "kernelspec": {
   "display_name": "Python 3",
   "language": "python",
   "name": "python3"
  },
  "language_info": {
   "codemirror_mode": {
    "name": "ipython",
    "version": 2
   },
   "file_extension": ".py",
   "mimetype": "text/x-python",
   "name": "python",
   "nbconvert_exporter": "python",
   "pygments_lexer": "ipython2",
   "version": "2.7.6"
  }
 },
 "nbformat": 4,
 "nbformat_minor": 0
}
