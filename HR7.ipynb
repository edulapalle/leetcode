{
 "cells": [
  {
   "cell_type": "code",
   "execution_count": 8,
   "metadata": {
    "collapsed": true
   },
   "outputs": [],
   "source": [
    "def minimumBribes(q):\n",
    "    # # Write your code here\n",
    "    #initilaising dummy array of size n\n",
    "    n = len(q)\n",
    "    a = [i for i in range(1,n+3)]\n",
    "    swap_counter = 0\n",
    "    for i in range(len(q)):\n",
    "        if q[i] != a[i]:\n",
    "            #case 1\n",
    "            if q[i] == a[i+1]:\n",
    "                #swap\n",
    "                a[i],a[i+1] = a[i+1],a[i]\n",
    "                swap_counter += 1\n",
    "            elif q[i] == a[i+2]:\n",
    "                #swap 2 elements\n",
    "                temp = a[i+2]\n",
    "                a[i+2] = a[i]\n",
    "                a[i+1],a[i+2] = a[i+2],a[i+1]\n",
    "                a[i] = temp\n",
    "                swap_counter += 2\n",
    "            else:\n",
    "                print(\"Too chaotic\")\n",
    "                return\n",
    "    print(swap_counter)"
   ]
  },
  {
   "cell_type": "code",
   "execution_count": 10,
   "outputs": [
    {
     "name": "stdout",
     "output_type": "stream",
     "text": [
      "3\n"
     ]
    }
   ],
   "source": [
    "q = [2,1,5,3,4]\n",
    "minimumBribes(q)"
   ],
   "metadata": {
    "collapsed": false
   }
  },
  {
   "cell_type": "code",
   "execution_count": null,
   "outputs": [],
   "source": [],
   "metadata": {
    "collapsed": false
   }
  }
 ],
 "metadata": {
  "kernelspec": {
   "display_name": "Python 3",
   "language": "python",
   "name": "python3"
  },
  "language_info": {
   "codemirror_mode": {
    "name": "ipython",
    "version": 2
   },
   "file_extension": ".py",
   "mimetype": "text/x-python",
   "name": "python",
   "nbconvert_exporter": "python",
   "pygments_lexer": "ipython2",
   "version": "2.7.6"
  }
 },
 "nbformat": 4,
 "nbformat_minor": 0
}
