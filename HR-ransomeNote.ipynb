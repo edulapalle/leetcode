{
 "cells": [
  {
   "cell_type": "code",
   "execution_count": 79,
   "metadata": {
    "collapsed": true
   },
   "outputs": [],
   "source": [
    "\n",
    "def checkMagazine(magazine, note):\n",
    "    # Write your code here\n",
    "\n",
    "    dict_mag = {}\n",
    "\n",
    "    for i in magazine:\n",
    "        if i in dict_mag:\n",
    "            dict_mag[i] = dict_mag.get(i) + 1\n",
    "        else:\n",
    "            dict_mag[i] = 1\n",
    "\n",
    "    for i in note:\n",
    "        if dict_mag.get(i,0) == 0:\n",
    "            print(\"No\")\n",
    "            return\n",
    "        else:\n",
    "            dict_mag[i] -= 1\n",
    "    print(\"Yes\")\n"
   ]
  },
  {
   "cell_type": "code",
   "execution_count": 80,
   "outputs": [
    {
     "name": "stdout",
     "output_type": "stream",
     "text": [
      "Yes\n"
     ]
    }
   ],
   "source": [
    "magazine = ['two','times','three','is','not','four']\n",
    "note = ['two','times','two','is','four']\n",
    "checkMagazine(magazine,note)"
   ],
   "metadata": {
    "collapsed": false
   }
  },
  {
   "cell_type": "code",
   "execution_count": 80,
   "outputs": [],
   "source": [],
   "metadata": {
    "collapsed": false
   }
  }
 ],
 "metadata": {
  "kernelspec": {
   "display_name": "Python 3",
   "language": "python",
   "name": "python3"
  },
  "language_info": {
   "codemirror_mode": {
    "name": "ipython",
    "version": 2
   },
   "file_extension": ".py",
   "mimetype": "text/x-python",
   "name": "python",
   "nbconvert_exporter": "python",
   "pygments_lexer": "ipython2",
   "version": "2.7.6"
  }
 },
 "nbformat": 4,
 "nbformat_minor": 0
}
