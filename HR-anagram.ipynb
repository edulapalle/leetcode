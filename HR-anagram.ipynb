{
 "cells": [
  {
   "cell_type": "code",
   "execution_count": 12,
   "outputs": [],
   "source": [
    "\n",
    "def anagram(s):\n",
    "    # Write your code here\n",
    "    if len(s)%2 != 0:\n",
    "        return -1\n",
    "    size = int(len(s)/2)\n",
    "    dict1 = {}\n",
    "    for i in range(26):\n",
    "        dict1[i] = 0\n",
    "    for i in range(len(s)):\n",
    "        asc = ord(s[i]) - ord('a')\n",
    "        if i < size:\n",
    "            dict1[asc] += 1\n",
    "        else:\n",
    "            dict1[asc] -= 1\n",
    "    sumx = 0\n",
    "    for value in dict1.values():\n",
    "        if value >=0:\n",
    "            sumx += value\n",
    "    return sumx\n"
   ],
   "metadata": {
    "collapsed": false
   }
  },
  {
   "cell_type": "code",
   "execution_count": 13,
   "outputs": [
    {
     "data": {
      "text/plain": "5"
     },
     "execution_count": 13,
     "metadata": {},
     "output_type": "execute_result"
    }
   ],
   "source": [
    "q = 'fdhlvosfpafhalll'\n",
    "anagram(q)"
   ],
   "metadata": {
    "collapsed": false
   }
  },
  {
   "cell_type": "code",
   "execution_count": 13,
   "outputs": [],
   "source": [],
   "metadata": {
    "collapsed": false
   }
  }
 ],
 "metadata": {
  "kernelspec": {
   "display_name": "Python 3",
   "language": "python",
   "name": "python3"
  },
  "language_info": {
   "codemirror_mode": {
    "name": "ipython",
    "version": 2
   },
   "file_extension": ".py",
   "mimetype": "text/x-python",
   "name": "python",
   "nbconvert_exporter": "python",
   "pygments_lexer": "ipython2",
   "version": "2.7.6"
  }
 },
 "nbformat": 4,
 "nbformat_minor": 0
}
