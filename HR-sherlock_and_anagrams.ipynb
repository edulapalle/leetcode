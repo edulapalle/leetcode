{
 "cells": [
  {
   "cell_type": "code",
   "execution_count": 14,
   "outputs": [],
   "source": [
    "    # Write your code here\n",
    "# def sherlockAndAnagrams(s):\n",
    "#     # Write your code here\n",
    "#     # Get all substrings as a list of sorted string\n",
    "#     sorted_substrings = []\n",
    "#     # Get count of each sorted substring\n",
    "#     count_dict = {}\n",
    "#     for i in range(len(s)):\n",
    "#         for j in range(i, len(s)):\n",
    "#             x = \"\".join(sorted(s[i : j + 1]))\n",
    "#             if x not in count_dict:\n",
    "#                 count_dict[x] = 1\n",
    "#             else:\n",
    "#                 count_dict[x] += 1\n",
    "#             sorted_substrings.append(x)\n",
    "#     # Get count of anagram pairs\n",
    "#     count = 0\n",
    "#     for x in count_dict:\n",
    "#         if count_dict[x] > 1:\n",
    "#             count += count_dict[x] * (count_dict[x] - 1) // 2\n",
    "#     return count\n"
   ],
   "metadata": {
    "collapsed": false
   }
  },
  {
   "cell_type": "code",
   "execution_count": 17,
   "outputs": [],
   "source": [
    "def sherlockAndAnagrams(s):\n",
    "    sorted_substr = []\n",
    "    count_dict = {}\n",
    "    for i in range(len(s)):\n",
    "        for j in range(i,len(s)):\n",
    "            x = \"\".join(sorted(s[i:j+1]))\n",
    "            if x not in count_dict:\n",
    "                count_dict[x] = 1\n",
    "            else:\n",
    "                count_dict[x] += 1\n",
    "            sorted_substr.append(x)\n",
    "    count = 0\n",
    "    for x in count_dict:\n",
    "        if count_dict[x] > 1:\n",
    "            count += count_dict[x] * (count_dict[x] - 1) // 2\n",
    "            # here since they are pairs, we are checking possible 2 pair combinations for given number of values that is nC2, where n is the value for key\n",
    "    return count"
   ],
   "metadata": {
    "collapsed": false
   }
  },
  {
   "cell_type": "code",
   "execution_count": 18,
   "outputs": [
    {
     "data": {
      "text/plain": "4"
     },
     "execution_count": 18,
     "metadata": {},
     "output_type": "execute_result"
    }
   ],
   "source": [
    "s = 'abba'\n",
    "sherlockAndAnagrams(s)"
   ],
   "metadata": {
    "collapsed": false
   }
  },
  {
   "cell_type": "code",
   "execution_count": 20,
   "outputs": [
    {
     "name": "stdout",
     "output_type": "stream",
     "text": [
      "0.5\n"
     ]
    }
   ],
   "source": [],
   "metadata": {
    "collapsed": false
   }
  },
  {
   "cell_type": "code",
   "execution_count": null,
   "outputs": [],
   "source": [],
   "metadata": {
    "collapsed": false
   }
  }
 ],
 "metadata": {
  "kernelspec": {
   "display_name": "Python 3",
   "language": "python",
   "name": "python3"
  },
  "language_info": {
   "codemirror_mode": {
    "name": "ipython",
    "version": 2
   },
   "file_extension": ".py",
   "mimetype": "text/x-python",
   "name": "python",
   "nbconvert_exporter": "python",
   "pygments_lexer": "ipython2",
   "version": "2.7.6"
  }
 },
 "nbformat": 4,
 "nbformat_minor": 0
}
