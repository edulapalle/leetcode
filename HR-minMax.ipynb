{
 "cells": [
  {
   "cell_type": "code",
   "execution_count": 34,
   "metadata": {
    "collapsed": true
   },
   "outputs": [],
   "source": [
    "def maxMin(k, arr):\n",
    "    # Write your code here\n",
    "    ln = len(arr)\n",
    "    arr.sort()\n",
    "    new = [0]*ln\n",
    "    new1 = []\n",
    "    for i in range(ln):\n",
    "        lst = arr[i:i+k]\n",
    "        if len(lst) < k:\n",
    "            new1 = new[:i]\n",
    "            break\n",
    "        dif = max(lst) - min(lst)\n",
    "        new[i] = dif\n",
    "    return min(new1)"
   ]
  },
  {
   "cell_type": "code",
   "execution_count": 35,
   "outputs": [
    {
     "name": "stdout",
     "output_type": "stream",
     "text": [
      "lst,new,new1 [1, 1, 1] [0, 0, 0, 0, 0] []\n",
      "lst,new,new1 [1, 1, 2] [0, 1, 0, 0, 0] []\n",
      "lst,new,new1 [1, 2, 2] [0, 1, 1, 0, 0] []\n",
      "lst,new,new1 [2, 2] [0, 1, 1, 0, 0] [0, 1, 1]\n"
     ]
    },
    {
     "data": {
      "text/plain": "0"
     },
     "execution_count": 35,
     "metadata": {},
     "output_type": "execute_result"
    }
   ],
   "source": [
    "k = 3\n",
    "arr = [1,2,1,2,1]\n",
    "maxMin(k,arr)"
   ],
   "metadata": {
    "collapsed": false
   }
  }
 ],
 "metadata": {
  "kernelspec": {
   "display_name": "Python 3",
   "language": "python",
   "name": "python3"
  },
  "language_info": {
   "codemirror_mode": {
    "name": "ipython",
    "version": 2
   },
   "file_extension": ".py",
   "mimetype": "text/x-python",
   "name": "python",
   "nbconvert_exporter": "python",
   "pygments_lexer": "ipython2",
   "version": "2.7.6"
  }
 },
 "nbformat": 4,
 "nbformat_minor": 0
}
