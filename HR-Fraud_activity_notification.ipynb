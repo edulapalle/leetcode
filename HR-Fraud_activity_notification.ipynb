{
 "cells": [
  {
   "cell_type": "code",
   "execution_count": null,
   "metadata": {
    "collapsed": true
   },
   "outputs": [],
   "source": [
    "import bisect\n",
    "n,d=map(int,input().split())\n",
    "exp=list(map(int,input().split()))\n",
    "arr=sorted(exp[:d])\n",
    "m=d//2\n",
    "c=0\n",
    "def med(arr,d,m):\n",
    "    if d % 2 == 0:\n",
    "        return sum(arr[m - 1:m + 1]) / 2\n",
    "    else :\n",
    "        return arr[int(m)]\n",
    "for i in range(d,n):\n",
    "    if exp[i] >= 2*med(arr,d,m):\n",
    "        c+=1\n",
    "    del arr[bisect.bisect_left(arr,exp[i-d])]\n",
    "    bisect.insort(arr,exp[i])\n",
    "print(c)"
   ]
  },
  {
   "cell_type": "code",
   "execution_count": 2,
   "outputs": [
    {
     "name": "stdout",
     "output_type": "stream",
     "text": [
      "Counter({2: 5, 1: 3, 3: 3}) Counter({3: 2, 5: 1})\n"
     ]
    }
   ],
   "source": [
    "from collections import Counter\n",
    "\n",
    "s = [1,2,3,2,2,2,2,3,3,1,1]\n",
    "dic = Counter(s) #testing Counter.\n",
    "dic1 = Counter(dic.values())\n",
    "print(dic,dic1)"
   ],
   "metadata": {
    "collapsed": false
   }
  },
  {
   "cell_type": "code",
   "execution_count": null,
   "outputs": [],
   "source": [],
   "metadata": {
    "collapsed": false
   }
  }
 ],
 "metadata": {
  "kernelspec": {
   "display_name": "Python 3",
   "language": "python",
   "name": "python3"
  },
  "language_info": {
   "codemirror_mode": {
    "name": "ipython",
    "version": 2
   },
   "file_extension": ".py",
   "mimetype": "text/x-python",
   "name": "python",
   "nbconvert_exporter": "python",
   "pygments_lexer": "ipython2",
   "version": "2.7.6"
  }
 },
 "nbformat": 4,
 "nbformat_minor": 0
}
