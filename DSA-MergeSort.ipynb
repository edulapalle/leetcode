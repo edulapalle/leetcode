{
 "cells": [
  {
   "cell_type": "code",
   "execution_count": 13,
   "metadata": {
    "collapsed": true
   },
   "outputs": [],
   "source": [
    "# Python program for implementation of MergeSort\n",
    "def mergeSort(arr):\n",
    "    if len(arr) > 1:\n",
    "\n",
    "        # Finding the mid of the array\n",
    "        mid = len(arr)//2\n",
    "\n",
    "        # Dividing the array elements\n",
    "        L = arr[:mid]\n",
    "\n",
    "        # into 2 halves\n",
    "        R = arr[mid:]\n",
    "\n",
    "        # Sorting the first half\n",
    "        mergeSort(L)\n",
    "\n",
    "        # Sorting the second half\n",
    "        mergeSort(R)\n",
    "\n",
    "        i = j = k = 0\n",
    "\n",
    "        # Copy data to temp arrays L[] and R[]\n",
    "        while i < len(L) and j < len(R):\n",
    "            if L[i] <= R[j]:\n",
    "                arr[k] = L[i]\n",
    "                i += 1\n",
    "            else:\n",
    "                arr[k] = R[j]\n",
    "                j += 1\n",
    "            k += 1\n",
    "\n",
    "        # Checking if any element was left\n",
    "        while i < len(L):\n",
    "            arr[k] = L[i]\n",
    "            i += 1\n",
    "            k += 1\n",
    "\n",
    "        while j < len(R):\n",
    "            arr[k] = R[j]\n",
    "            j += 1\n",
    "            k += 1\n",
    "    print(arr)\n",
    "\n",
    "\n"
   ]
  },
  {
   "cell_type": "code",
   "execution_count": 15,
   "outputs": [
    {
     "name": "stdout",
     "output_type": "stream",
     "text": [
      "[2]\n",
      "[1]\n",
      "[3]\n",
      "[1, 3]\n",
      "[1, 2, 3]\n"
     ]
    }
   ],
   "source": [
    "arr = [2,1,3]\n",
    "mergeSort(arr)"
   ],
   "metadata": {
    "collapsed": false
   }
  }
 ],
 "metadata": {
  "kernelspec": {
   "display_name": "Python 3",
   "language": "python",
   "name": "python3"
  },
  "language_info": {
   "codemirror_mode": {
    "name": "ipython",
    "version": 2
   },
   "file_extension": ".py",
   "mimetype": "text/x-python",
   "name": "python",
   "nbconvert_exporter": "python",
   "pygments_lexer": "ipython2",
   "version": "2.7.6"
  }
 },
 "nbformat": 4,
 "nbformat_minor": 0
}
