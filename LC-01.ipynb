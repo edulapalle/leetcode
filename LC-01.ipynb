{
 "cells": [
  {
   "cell_type": "code",
   "execution_count": 1,
   "outputs": [],
   "source": [
    "# two sums\n",
    "# Given an array of integers nums and an integer target, return indices of the two numbers such that they add up to target.\n",
    "#\n",
    "# You may assume that each input would have exactly one solution, and you may not use the same element twice.\n",
    "#\n",
    "# You can return the answer in any order."
   ],
   "metadata": {
    "collapsed": false
   }
  },
  {
   "cell_type": "code",
   "execution_count": 2,
   "outputs": [],
   "source": [
    "# class Solution:\n",
    "#     def twoSum(self, nums: List[int], target: int) -> List[int]:\n"
   ],
   "metadata": {
    "collapsed": false
   }
  },
  {
   "cell_type": "code",
   "execution_count": 3,
   "outputs": [],
   "source": [
    "# class Solution:\n",
    "#     def twoSum(self, nums: [int], target: int) -> []:\n",
    "#         flag = True\n",
    "#         result_array = []\n",
    "#         size = len(nums)\n",
    "#         dummy_target = target\n",
    "#         while flag == True:\n",
    "#             j = 0\n",
    "#             starting = 0\n",
    "#             for i in range(starting,size):\n",
    "#                 dummy_target = dummy_target - nums[i]\n",
    "#\n",
    "#                 #result_array[j] = i\n",
    "#                 result_array.insert(j,i)\n",
    "#                 i = i+1\n",
    "#                 j = j+1\n",
    "#                 if(dummy_target == 0):\n",
    "#                     return result_array\n",
    "#\n",
    "#             starting = starting+1\n",
    "#             if starting >= size:\n",
    "#                 break\n",
    "#                 return False\n"
   ],
   "metadata": {
    "collapsed": false
   }
  },
  {
   "cell_type": "code",
   "execution_count": 6,
   "outputs": [
    {
     "ename": "KeyboardInterrupt",
     "evalue": "",
     "output_type": "error",
     "traceback": [
      "\u001B[0;31m---------------------------------------------------------------------------\u001B[0m",
      "\u001B[0;31mKeyboardInterrupt\u001B[0m                         Traceback (most recent call last)",
      "Input \u001B[0;32mIn [6]\u001B[0m, in \u001B[0;36m<cell line: 20>\u001B[0;34m()\u001B[0m\n\u001B[1;32m     18\u001B[0m target \u001B[38;5;241m=\u001B[39m \u001B[38;5;241m7\u001B[39m\n\u001B[1;32m     19\u001B[0m new_sol \u001B[38;5;241m=\u001B[39m Solution()\n\u001B[0;32m---> 20\u001B[0m \u001B[38;5;28mprint\u001B[39m(\u001B[43mnew_sol\u001B[49m\u001B[38;5;241;43m.\u001B[39;49m\u001B[43mtwoSum\u001B[49m\u001B[43m(\u001B[49m\u001B[43mnums\u001B[49m\u001B[43m,\u001B[49m\u001B[43mtarget\u001B[49m\u001B[43m)\u001B[49m)\n",
      "Input \u001B[0;32mIn [6]\u001B[0m, in \u001B[0;36mSolution.twoSum\u001B[0;34m(self, nums, target)\u001B[0m\n\u001B[1;32m      5\u001B[0m \u001B[38;5;66;03m#initialising dict.\u001B[39;00m\n\u001B[1;32m      6\u001B[0m \u001B[38;5;28;01mfor\u001B[39;00m index,n \u001B[38;5;129;01min\u001B[39;00m \u001B[38;5;28menumerate\u001B[39m(nums):\n\u001B[1;32m      7\u001B[0m     \u001B[38;5;66;03m# enumarate takes in iterable object and has an inbuilt counter and returns list\u001B[39;00m\n\u001B[1;32m      8\u001B[0m     \u001B[38;5;66;03m#lets check if target - number is present in map already.\u001B[39;00m\n\u001B[0;32m----> 9\u001B[0m     balance \u001B[38;5;241m=\u001B[39m \u001B[43mtarget\u001B[49m \u001B[38;5;241m-\u001B[39m n\n\u001B[1;32m     10\u001B[0m     \u001B[38;5;28;01mif\u001B[39;00m balance \u001B[38;5;129;01min\u001B[39;00m \u001B[38;5;28mmap\u001B[39m:\n\u001B[1;32m     11\u001B[0m         \u001B[38;5;66;03m# here we are checking if number already exists in hashmap. if yes returning that index and the current index.\u001B[39;00m\n\u001B[1;32m     12\u001B[0m         \u001B[38;5;28;01mreturn\u001B[39;00m [\u001B[38;5;28mmap\u001B[39m[balance],index]\n",
      "Input \u001B[0;32mIn [6]\u001B[0m, in \u001B[0;36mSolution.twoSum\u001B[0;34m(self, nums, target)\u001B[0m\n\u001B[1;32m      5\u001B[0m \u001B[38;5;66;03m#initialising dict.\u001B[39;00m\n\u001B[1;32m      6\u001B[0m \u001B[38;5;28;01mfor\u001B[39;00m index,n \u001B[38;5;129;01min\u001B[39;00m \u001B[38;5;28menumerate\u001B[39m(nums):\n\u001B[1;32m      7\u001B[0m     \u001B[38;5;66;03m# enumarate takes in iterable object and has an inbuilt counter and returns list\u001B[39;00m\n\u001B[1;32m      8\u001B[0m     \u001B[38;5;66;03m#lets check if target - number is present in map already.\u001B[39;00m\n\u001B[0;32m----> 9\u001B[0m     balance \u001B[38;5;241m=\u001B[39m \u001B[43mtarget\u001B[49m \u001B[38;5;241m-\u001B[39m n\n\u001B[1;32m     10\u001B[0m     \u001B[38;5;28;01mif\u001B[39;00m balance \u001B[38;5;129;01min\u001B[39;00m \u001B[38;5;28mmap\u001B[39m:\n\u001B[1;32m     11\u001B[0m         \u001B[38;5;66;03m# here we are checking if number already exists in hashmap. if yes returning that index and the current index.\u001B[39;00m\n\u001B[1;32m     12\u001B[0m         \u001B[38;5;28;01mreturn\u001B[39;00m [\u001B[38;5;28mmap\u001B[39m[balance],index]\n",
      "File \u001B[0;32m_pydevd_bundle/pydevd_cython_darwin_39_64.pyx:1179\u001B[0m, in \u001B[0;36m_pydevd_bundle.pydevd_cython_darwin_39_64.SafeCallWrapper.__call__\u001B[0;34m()\u001B[0m\n",
      "File \u001B[0;32m_pydevd_bundle/pydevd_cython_darwin_39_64.pyx:620\u001B[0m, in \u001B[0;36m_pydevd_bundle.pydevd_cython_darwin_39_64.PyDBFrame.trace_dispatch\u001B[0;34m()\u001B[0m\n",
      "File \u001B[0;32m_pydevd_bundle/pydevd_cython_darwin_39_64.pyx:929\u001B[0m, in \u001B[0;36m_pydevd_bundle.pydevd_cython_darwin_39_64.PyDBFrame.trace_dispatch\u001B[0;34m()\u001B[0m\n",
      "File \u001B[0;32m_pydevd_bundle/pydevd_cython_darwin_39_64.pyx:920\u001B[0m, in \u001B[0;36m_pydevd_bundle.pydevd_cython_darwin_39_64.PyDBFrame.trace_dispatch\u001B[0;34m()\u001B[0m\n",
      "File \u001B[0;32m_pydevd_bundle/pydevd_cython_darwin_39_64.pyx:317\u001B[0m, in \u001B[0;36m_pydevd_bundle.pydevd_cython_darwin_39_64.PyDBFrame.do_wait_suspend\u001B[0;34m()\u001B[0m\n",
      "File \u001B[0;32m~/Library/Application Support/JetBrains/Toolbox/apps/DataSpell/ch-0/221.5921.20/DataSpell.app/Contents/plugins/python-ce/helpers/pydev/pydevd.py:1155\u001B[0m, in \u001B[0;36mPyDB.do_wait_suspend\u001B[0;34m(self, thread, frame, event, arg, send_suspend_message, is_unhandled_exception)\u001B[0m\n\u001B[1;32m   1152\u001B[0m         from_this_thread\u001B[38;5;241m.\u001B[39mappend(frame_id)\n\u001B[1;32m   1154\u001B[0m \u001B[38;5;28;01mwith\u001B[39;00m \u001B[38;5;28mself\u001B[39m\u001B[38;5;241m.\u001B[39m_threads_suspended_single_notification\u001B[38;5;241m.\u001B[39mnotify_thread_suspended(thread_id, stop_reason):\n\u001B[0;32m-> 1155\u001B[0m     \u001B[38;5;28;43mself\u001B[39;49m\u001B[38;5;241;43m.\u001B[39;49m\u001B[43m_do_wait_suspend\u001B[49m\u001B[43m(\u001B[49m\u001B[43mthread\u001B[49m\u001B[43m,\u001B[49m\u001B[43m \u001B[49m\u001B[43mframe\u001B[49m\u001B[43m,\u001B[49m\u001B[43m \u001B[49m\u001B[43mevent\u001B[49m\u001B[43m,\u001B[49m\u001B[43m \u001B[49m\u001B[43marg\u001B[49m\u001B[43m,\u001B[49m\u001B[43m \u001B[49m\u001B[43msuspend_type\u001B[49m\u001B[43m,\u001B[49m\u001B[43m \u001B[49m\u001B[43mfrom_this_thread\u001B[49m\u001B[43m)\u001B[49m\n",
      "File \u001B[0;32m~/Library/Application Support/JetBrains/Toolbox/apps/DataSpell/ch-0/221.5921.20/DataSpell.app/Contents/plugins/python-ce/helpers/pydev/pydevd.py:1170\u001B[0m, in \u001B[0;36mPyDB._do_wait_suspend\u001B[0;34m(self, thread, frame, event, arg, suspend_type, from_this_thread)\u001B[0m\n\u001B[1;32m   1167\u001B[0m             \u001B[38;5;28mself\u001B[39m\u001B[38;5;241m.\u001B[39m_call_mpl_hook()\n\u001B[1;32m   1169\u001B[0m         \u001B[38;5;28mself\u001B[39m\u001B[38;5;241m.\u001B[39mprocess_internal_commands()\n\u001B[0;32m-> 1170\u001B[0m         \u001B[43mtime\u001B[49m\u001B[38;5;241;43m.\u001B[39;49m\u001B[43msleep\u001B[49m\u001B[43m(\u001B[49m\u001B[38;5;241;43m0.01\u001B[39;49m\u001B[43m)\u001B[49m\n\u001B[1;32m   1172\u001B[0m \u001B[38;5;28mself\u001B[39m\u001B[38;5;241m.\u001B[39mcancel_async_evaluation(get_current_thread_id(thread), \u001B[38;5;28mstr\u001B[39m(\u001B[38;5;28mid\u001B[39m(frame)))\n\u001B[1;32m   1174\u001B[0m \u001B[38;5;66;03m# process any stepping instructions\u001B[39;00m\n",
      "\u001B[0;31mKeyboardInterrupt\u001B[0m: "
     ]
    }
   ],
   "source": [
    "# using hashmap method.In python, hashmap is basically a dictionary.\n",
    "class Solution:\n",
    "    def twoSum(self, nums: [int], target: int) -> [int]:\n",
    "        dict = {}\n",
    "        #initialising dict.\n",
    "        for index,n in enumerate(nums):\n",
    "            # enumarate takes in iterable object and has an inbuilt counter and returns list\n",
    "            #lets check if target - number is present in map already.\n",
    "            balance = target - n\n",
    "            if balance in dict:\n",
    "                # here we are checking if number already exists in hashdict. if yes returning that index and the current index.\n",
    "                return [dict[balance],index]\n",
    "            dict[n] = index # if number does not exists, we are adding it to map.\n",
    "        return 0\n",
    "\n",
    "\n",
    "nums = [4,11,15,5,2]\n",
    "target = 7\n",
    "new_sol = Solution()\n",
    "print(new_sol.twoSum(nums,target))"
   ],
   "metadata": {
    "collapsed": false
   }
  },
  {
   "cell_type": "code",
   "execution_count": 5,
   "outputs": [],
   "source": [
    "# nums = [4,11,15,5,2]\n",
    "# target = 9\n",
    "# new_sol = Solution()\n",
    "# print(new_sol.twoSum(nums,target))"
   ],
   "metadata": {
    "collapsed": false
   }
  },
  {
   "cell_type": "code",
   "execution_count": 5,
   "outputs": [],
   "source": [],
   "metadata": {
    "collapsed": false
   }
  }
 ],
 "metadata": {
  "kernelspec": {
   "display_name": "Python 3",
   "language": "python",
   "name": "python3"
  },
  "language_info": {
   "codemirror_mode": {
    "name": "ipython",
    "version": 2
   },
   "file_extension": ".py",
   "mimetype": "text/x-python",
   "name": "python",
   "nbconvert_exporter": "python",
   "pygments_lexer": "ipython2",
   "version": "2.7.6"
  }
 },
 "nbformat": 4,
 "nbformat_minor": 0
}
