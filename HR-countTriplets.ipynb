{
 "cells": [
  {
   "cell_type": "code",
   "execution_count": 51,
   "metadata": {
    "collapsed": true
   },
   "outputs": [],
   "source": [
    "\n",
    "def countTriplets(arr, r):\n",
    "    after = {}\n",
    "    before = {}\n",
    "    count = 0\n",
    "    for i in arr:\n",
    "        if i in after:\n",
    "            after[i] += 1\n",
    "        else:\n",
    "            after[i] = 1\n",
    "    for i in arr:\n",
    "        after[i] -= 1\n",
    "        if i//r in before and i%r == 0 and i*r in after:\n",
    "            count += before[i//r] * after[i*r]\n",
    "        if i in before:\n",
    "            before[i] += 1\n",
    "        else:\n",
    "            before[i] = 1\n",
    "    return count\n"
   ]
  },
  {
   "cell_type": "code",
   "execution_count": 52,
   "outputs": [
    {
     "data": {
      "text/plain": "6"
     },
     "execution_count": 52,
     "metadata": {},
     "output_type": "execute_result"
    }
   ],
   "source": [
    "arr = [1 ,3, 9, 9, 27, 81]\n",
    "r = 3\n",
    "countTriplets(arr,r)"
   ],
   "metadata": {
    "collapsed": false
   }
  },
  {
   "cell_type": "code",
   "execution_count": 55,
   "outputs": [
    {
     "data": {
      "text/plain": "3"
     },
     "execution_count": 55,
     "metadata": {},
     "output_type": "execute_result"
    }
   ],
   "source": [],
   "metadata": {
    "collapsed": false
   }
  },
  {
   "cell_type": "code",
   "execution_count": null,
   "outputs": [],
   "source": [
    "\n"
   ],
   "metadata": {
    "collapsed": false
   }
  }
 ],
 "metadata": {
  "kernelspec": {
   "display_name": "Python 3",
   "language": "python",
   "name": "python3"
  },
  "language_info": {
   "codemirror_mode": {
    "name": "ipython",
    "version": 2
   },
   "file_extension": ".py",
   "mimetype": "text/x-python",
   "name": "python",
   "nbconvert_exporter": "python",
   "pygments_lexer": "ipython2",
   "version": "2.7.6"
  }
 },
 "nbformat": 4,
 "nbformat_minor": 0
}
