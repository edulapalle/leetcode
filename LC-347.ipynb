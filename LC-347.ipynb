{
 "cells": [
  {
   "cell_type": "code",
   "execution_count": 139,
   "outputs": [],
   "source": [
    "# Given an integer array nums and an integer k, return the k most frequent elements. You may return the answer in any order.\n",
    "#\n",
    "#\n",
    "#\n",
    "# Example 1:\n",
    "#\n",
    "# Input: nums = [1,1,1,2,2,3], k = 2\n",
    "# Output: [1,2]\n",
    "# Example 2:\n",
    "#\n",
    "# Input: nums = [1], k = 1\n",
    "# Output: [1]\n"
   ],
   "metadata": {
    "collapsed": false,
    "pycharm": {
     "name": "#%%\n"
    }
   }
  },
  {
   "cell_type": "code",
   "execution_count": 145,
   "outputs": [],
   "source": [
    "nums = [1]\n",
    "k = 1"
   ],
   "metadata": {
    "collapsed": false,
    "pycharm": {
     "name": "#%%\n"
    }
   }
  },
  {
   "cell_type": "code",
   "execution_count": 146,
   "outputs": [],
   "source": [
    "# #this code gives output but is taking longer time than required O(nlogn) so not valid,\n",
    "# class Solution:\n",
    "#     def topKFrequent(self, nums: [int], k: int):\n",
    "#         output = []\n",
    "#         nums.sort()\n",
    "#         hashk = {}\n",
    "#         count = 0\n",
    "#         k1 = k\n",
    "#         for i in range(len(nums)):\n",
    "#             hashk[nums[i]] = hashk.get(nums[i],0)+1\n",
    "#         while k1 > 0:\n",
    "#\n",
    "#             for i in nums:\n",
    "#                 hashvalues = hashk.values()\n",
    "#                 if hashk.get(i, 0) == max(hashvalues):\n",
    "#                     output.append(i)\n",
    "#                     hashk[i] = 0\n",
    "#                     count += 1\n",
    "#                     k1 -= 1\n",
    "#             if count == k:\n",
    "#                 return output[:k]\n",
    "#\n",
    "#         return output[:k]\n",
    "#\n",
    "#\n",
    "#\n"
   ],
   "metadata": {
    "collapsed": false,
    "pycharm": {
     "name": "#%%\n"
    }
   }
  },
  {
   "cell_type": "code",
   "execution_count": 147,
   "outputs": [],
   "source": [
    "# class Solution:\n",
    "#     def topKFrequent(self, nums: [int], k: int):\n",
    "#         hashk = {}\n",
    "#         if len(nums) == 1:\n",
    "#             size = [[],[]]\n",
    "#         else:\n",
    "#             size = [[] for i in range(len(nums))]\n",
    "#         freqArray = size\n",
    "#         output = []\n",
    "#         #this loop populates the hashmap with its count.\n",
    "#         for i in range(len(nums)):\n",
    "#             hashk[nums[i]] = hashk.get(nums[i],0) + 1\n",
    "#         #this loop adds elements to the array based on their frequency.\n",
    "#         for key,value in hashk.items():\n",
    "#             freqArray[value].append(key)\n",
    "#         # range(stop) -> range object\n",
    "#         # range(start, stop[, step]) -> range object\n",
    "#         if len(nums) == 1:\n",
    "#             for i in range(len(nums),0,-1):\n",
    "#                 for j in freqArray[i]: #this for loop goes through each value in that array and appends it to output array\n",
    "#                     output.append(j)\n",
    "#                     return output\n",
    "#         else:\n",
    "#             for i in range(len(nums)-1,0,-1): #this for loop starts from end of freqArray\n",
    "#                 for j in freqArray[i]: #this for loop goes through each value in that array and appends it to output array\n",
    "#                     output.append(j)\n",
    "#                     if len(output) == k:\n",
    "#                         return output\n"
   ],
   "metadata": {
    "collapsed": false,
    "pycharm": {
     "name": "#%%\n"
    }
   }
  },
  {
   "cell_type": "code",
   "execution_count": 148,
   "outputs": [],
   "source": [
    "class Solution:\n",
    "    def topKFrequent(self, nums: [int], k: int):\n",
    "        hashk = {}\n",
    "        freqArray = [[] for i in range(len(nums)+1)]\n",
    "        output = []\n",
    "        #this loop populates the hashmap with its count.\n",
    "        for i in range(len(nums)):\n",
    "            hashk[nums[i]] = hashk.get(nums[i],0) + 1\n",
    "        #this loop adds elements to the array based on their frequency.\n",
    "        for key,value in hashk.items():\n",
    "            freqArray[value].append(key)\n",
    "        # range(stop) -> range object\n",
    "        # range(start, stop[, step]) -> range object\n",
    "        for i in range(len(freqArray)-1,0,-1): #this for loop starts from end of freqArray\n",
    "            for j in freqArray[i]: #this for loop goes through each value in that array and appends it to output array\n",
    "                output.append(j)\n",
    "                if len(output) == k:\n",
    "                    return output"
   ],
   "metadata": {
    "collapsed": false,
    "pycharm": {
     "name": "#%%\n"
    }
   }
  },
  {
   "cell_type": "code",
   "execution_count": 149,
   "outputs": [
    {
     "data": {
      "text/plain": "[1]"
     },
     "execution_count": 149,
     "metadata": {},
     "output_type": "execute_result"
    }
   ],
   "source": [
    "kat = Solution()\n",
    "kat.topKFrequent(nums,k)"
   ],
   "metadata": {
    "collapsed": false,
    "pycharm": {
     "name": "#%%\n"
    }
   }
  },
  {
   "cell_type": "code",
   "execution_count": 144,
   "outputs": [],
   "source": [],
   "metadata": {
    "collapsed": false,
    "pycharm": {
     "name": "#%%\n"
    }
   }
  }
 ],
 "metadata": {
  "kernelspec": {
   "display_name": "Python 3",
   "language": "python",
   "name": "python3"
  },
  "language_info": {
   "codemirror_mode": {
    "name": "ipython",
    "version": 2
   },
   "file_extension": ".py",
   "mimetype": "text/x-python",
   "name": "python",
   "nbconvert_exporter": "python",
   "pygments_lexer": "ipython2",
   "version": "2.7.6"
  }
 },
 "nbformat": 4,
 "nbformat_minor": 0
}