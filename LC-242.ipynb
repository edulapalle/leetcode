{
 "cells": [
  {
   "cell_type": "code",
   "execution_count": 1,
   "metadata": {
    "collapsed": false,
    "pycharm": {
     "name": "#%%\n"
    },
    "ExecuteTime": {
     "end_time": "2023-09-18T02:12:08.302686Z",
     "start_time": "2023-09-18T02:12:08.292252Z"
    }
   },
   "outputs": [],
   "source": [
    "# this code is to find the valid anagram."
   ]
  },
  {
   "cell_type": "code",
   "execution_count": 2,
   "metadata": {
    "collapsed": false,
    "pycharm": {
     "name": "#%%\n"
    },
    "ExecuteTime": {
     "end_time": "2023-09-18T02:12:08.322310Z",
     "start_time": "2023-09-18T02:12:08.315315Z"
    }
   },
   "outputs": [],
   "source": [
    "class Solution:\n",
    "    def isAnagram(self, s: str, t: str) -> bool:\n",
    "        if len(s)!=len(t):\n",
    "            #since given problem statement tells that all letters are used exactly once,\n",
    "            #we are checking both lengths.\n",
    "            return False\n",
    "        sorted_s = \"\".join(sorted(s))\n",
    "        sorted_t = \"\".join(sorted(t))\n",
    "        #here we are sorting both strings and joining them to a string and comparing both strings.isAnagram\n",
    "\n",
    "        if sorted_t == sorted_s:\n",
    "            return True\n",
    "        return False"
   ]
  },
  {
   "cell_type": "code",
   "execution_count": 3,
   "metadata": {
    "collapsed": false,
    "pycharm": {
     "name": "#%%\n"
    },
    "ExecuteTime": {
     "end_time": "2023-09-18T02:12:08.326520Z",
     "start_time": "2023-09-18T02:12:08.319804Z"
    }
   },
   "outputs": [],
   "source": [
    "# other method using hashmap. This solution takes more space. O(n)\n",
    "class SolutionHash:\n",
    "    def isAnagramHash(self, s: str, t: str) -> bool:\n",
    "        # initialising hashmaps\n",
    "        hashS = {}\n",
    "        hashT = {}\n",
    "        if len(s) != len(t):\n",
    "            return False\n",
    "        for i in range(len(s)):\n",
    "            # here we are adding values to hashmap\n",
    "            # remember that we add number as key and its count as value\n",
    "            hashS[s[i]] = 1 + hashS.get(s[i],0) # if there is a value already it adds +1, if not it gives 0\n",
    "            hashT[t[i]] = 1 + hashT.get(t[i],0)\n",
    "        for value_count in hashS:\n",
    "            if hashS[value_count] != hashT.get(value_count,0): # here if we don't have that key in arrayT, we get 0 as default.\n",
    "                return False\n",
    "\n",
    "        return True"
   ]
  },
  {
   "cell_type": "code",
   "execution_count": 6,
   "metadata": {
    "collapsed": false,
    "pycharm": {
     "name": "#%%\n"
    },
    "ExecuteTime": {
     "end_time": "2023-09-18T02:12:42.206442Z",
     "start_time": "2023-09-18T02:12:33.444655Z"
    }
   },
   "outputs": [
    {
     "name": "stdout",
     "output_type": "stream",
     "text": [
      "False\n"
     ]
    }
   ],
   "source": [
    "new_sol = Solution()\n",
    "print(new_sol.isAnagram(\"care\",\"aprc\"))"
   ]
  },
  {
   "cell_type": "code",
   "execution_count": 5,
   "metadata": {
    "collapsed": false,
    "pycharm": {
     "name": "#%%\n"
    },
    "ExecuteTime": {
     "end_time": "2023-09-18T02:12:08.331939Z",
     "start_time": "2023-09-18T02:12:08.328569Z"
    }
   },
   "outputs": [
    {
     "name": "stdout",
     "output_type": "stream",
     "text": [
      "True\n"
     ]
    }
   ],
   "source": [
    "hash_sol = SolutionHash()\n",
    "print(hash_sol.isAnagramHash(\"apple\",\"lappe\"))"
   ]
  },
  {
   "cell_type": "code",
   "execution_count": 5,
   "metadata": {
    "collapsed": false,
    "pycharm": {
     "name": "#%%\n"
    },
    "ExecuteTime": {
     "end_time": "2023-09-18T02:12:08.335452Z",
     "start_time": "2023-09-18T02:12:08.332787Z"
    }
   },
   "outputs": [],
   "source": []
  }
 ],
 "metadata": {
  "interpreter": {
   "hash": "aee8b7b246df8f9039afb4144a1f6fd8d2ca17a180786b69acc140d282b71a49"
  },
  "kernelspec": {
   "display_name": "Python 3.10.4 64-bit",
   "language": "python",
   "name": "python3"
  },
  "language_info": {
   "codemirror_mode": {
    "name": "ipython",
    "version": 3
   },
   "file_extension": ".py",
   "mimetype": "text/x-python",
   "name": "python",
   "nbconvert_exporter": "python",
   "pygments_lexer": "ipython3",
   "version": "3.10.4"
  }
 },
 "nbformat": 4,
 "nbformat_minor": 0
}
