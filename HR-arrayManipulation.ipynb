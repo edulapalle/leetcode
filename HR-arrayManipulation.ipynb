{
 "cells": [
  {
   "cell_type": "code",
   "execution_count": 1,
   "metadata": {
    "collapsed": true
   },
   "outputs": [],
   "source": [
    "def arrayManipulation(n, queries):\n",
    "    arr = [0]*n\n",
    "    for a,b,k in queries:\n",
    "        arr[a - 1] += k\n",
    "        if b != len(arr):\n",
    "            arr[b] -= k\n",
    "    maxval = 0\n",
    "    itt = 0\n",
    "    print(arr)\n",
    "    for q in arr:\n",
    "        itt += q\n",
    "        if itt > maxval:\n",
    "            maxval = itt\n",
    "    return maxval"
   ]
  },
  {
   "cell_type": "code",
   "execution_count": 2,
   "outputs": [
    {
     "name": "stdout",
     "output_type": "stream",
     "text": [
      "[3, 0, 0, 7, 0, -2, 0, 0, -7, -1]\n"
     ]
    },
    {
     "data": {
      "text/plain": "10"
     },
     "execution_count": 2,
     "metadata": {},
     "output_type": "execute_result"
    }
   ],
   "source": [
    "q = [[1,5,3],[4,8,7],[6,9,1]]\n",
    "n = 10\n",
    "arrayManipulation(n,q)"
   ],
   "metadata": {
    "collapsed": false
   }
  },
  {
   "cell_type": "code",
   "execution_count": null,
   "outputs": [],
   "source": [],
   "metadata": {
    "collapsed": false
   }
  }
 ],
 "metadata": {
  "kernelspec": {
   "display_name": "Python 3",
   "language": "python",
   "name": "python3"
  },
  "language_info": {
   "codemirror_mode": {
    "name": "ipython",
    "version": 2
   },
   "file_extension": ".py",
   "mimetype": "text/x-python",
   "name": "python",
   "nbconvert_exporter": "python",
   "pygments_lexer": "ipython2",
   "version": "2.7.6"
  }
 },
 "nbformat": 4,
 "nbformat_minor": 0
}
