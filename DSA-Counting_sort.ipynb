{
 "cells": [
  {
   "cell_type": "code",
   "execution_count": 39,
   "metadata": {
    "collapsed": true
   },
   "outputs": [],
   "source": [
    "def counting_sort(a):\n",
    "\n",
    "\n",
    "    max = -99999\n",
    "    for i in a: # finding the max value in the given array\n",
    "        if i > max:\n",
    "            max = i\n",
    "    count = [0]*(max+1) #creating an array of length max+1\n",
    "    for i in a: # counting the individual list elements and updating count\n",
    "        count[i] += 1\n",
    "\n",
    "    for i in range(1,len(count)): #prefix-sum\n",
    "        count[i] = count[i] + count[i-1]\n",
    "    print(count)\n",
    "    out = [0]*(len(a)+1) #creating out array with size of array+1\n",
    "    for i in range(len(a)-1,-1,-1): #sorting by checking Og array value position present in count array!\n",
    "        pos = count[a[i]]\n",
    "        count[a[i]] -= 1\n",
    "        out[pos] = a[i]\n",
    "    out = out[1:] #since we added zero position for for-looping, we remove first 0 position.\n",
    "    print(out)\n",
    "\n",
    "\n",
    "\n",
    "\n"
   ]
  },
  {
   "cell_type": "code",
   "execution_count": 40,
   "outputs": [
    {
     "name": "stdout",
     "output_type": "stream",
     "text": [
      "[0, 2, 3, 3, 5, 6, 6, 7]\n",
      "[1, 1, 2, 4, 4, 5, 7]\n"
     ]
    }
   ],
   "source": [
    "a = [1,2,1,4,7,5,4]\n",
    "counting_sort(a)"
   ],
   "metadata": {
    "collapsed": false
   }
  }
 ],
 "metadata": {
  "kernelspec": {
   "display_name": "Python 3",
   "language": "python",
   "name": "python3"
  },
  "language_info": {
   "codemirror_mode": {
    "name": "ipython",
    "version": 2
   },
   "file_extension": ".py",
   "mimetype": "text/x-python",
   "name": "python",
   "nbconvert_exporter": "python",
   "pygments_lexer": "ipython2",
   "version": "2.7.6"
  }
 },
 "nbformat": 4,
 "nbformat_minor": 0
}
