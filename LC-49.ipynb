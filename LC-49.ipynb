{
 "cells": [
  {
   "cell_type": "code",
   "execution_count": 1,
   "outputs": [],
   "source": [
    "# Given an array of strings strs, group the anagrams together. You can return the answer in any order.\n",
    "#\n",
    "# An Anagram is a word or phrase formed by rearranging the letters of a different word or phrase, typically using all the original letters exactly once.\n",
    "# example\n",
    "# Input: strs = [\"eat\",\"tea\",\"tan\",\"ate\",\"nat\",\"bat\"]\n",
    "# Output: [[\"bat\"],[\"nat\",\"tan\"],[\"ate\",\"eat\",\"tea\"]]"
   ],
   "metadata": {
    "collapsed": false,
    "pycharm": {
     "name": "#%%\n"
    }
   }
  },
  {
   "cell_type": "code",
   "execution_count": 2,
   "outputs": [],
   "source": [
    "# class Solution:\n",
    "#     def groupAnagrams(self, strs: [str]) -> [[str]]:\n",
    "#         groupHash = {}\n",
    "#         output = []\n",
    "#         # first we will build the dictionary.\n",
    "#         for i in range(len(strs)):\n",
    "#             if strs[i] in groupHash:\n",
    "#                 output[i].insert(strs[i])\n",
    "#             groupHash[strs[i]] = {}\n",
    "#             for j in strs[i]:\n",
    "#                 value = j\n",
    "#                 try:\n",
    "#                     # if there is not key, this will throw error.\n",
    "#                     count = 1 + groupHash[strs[i]][value]\n",
    "#                 except:\n",
    "#                     count = 1\n",
    "#                 groupHash[strs[i]].update({value : count})\n",
    "#         for i in range(0,len(groupHash)-1):\n",
    "#             for i2 in range(0,len(groupHash)-1):\n",
    "#                 key_1 = strs[i]\n",
    "#                 key_2 = strs[i2]\n",
    "#                 if len(key_1) == len(key_2):\n",
    "#                     count1 = 0\n",
    "#                     for j in key_1:\n",
    "#                         try:\n",
    "#                             if groupHash[key_1][j] == groupHash[key_2][j]:\n",
    "#                                 count1 += 1\n",
    "#                         except:\n",
    "#                             pass\n",
    "#                 if count1 == len(key_1):\n",
    "#                     output.insert(i,[key_1,key_2])\n",
    "#\n",
    "#         # for value in groupHash:\n",
    "#\n",
    "#\n",
    "#         # for value_count in hashS:\n",
    "#         #     if hashS[value_count] != hashT.get(value_count,0):\n",
    "#         #         return False\n",
    "#\n",
    "#\n",
    "#         print(groupHash)\n",
    "#         print(output)"
   ],
   "metadata": {
    "collapsed": false,
    "pycharm": {
     "name": "#%%\n"
    }
   }
  },
  {
   "cell_type": "code",
   "execution_count": 3,
   "outputs": [],
   "source": [
    "from collections import defaultdict\n",
    "\n",
    "\n",
    "class Solution:\n",
    "    def groupAnagrams(self, strs: [str]) -> [[str]]:\n",
    "        hashmap = defaultdict(list)\n",
    "        for s in strs:\n",
    "            count = [0] * 26\n",
    "            for c in s:\n",
    "                count[ord(c)-ord(\"a\")] += 1\n",
    "            hashmap[tuple(count)].append(s)\n",
    "            # keys can be strings, bcz they are immutable.\n",
    "            # hashmap[str(sorted(s))].append(s)\n",
    "        return hashmap.values()\n"
   ],
   "metadata": {
    "collapsed": false,
    "pycharm": {
     "name": "#%%\n"
    }
   }
  },
  {
   "cell_type": "code",
   "execution_count": 4,
   "outputs": [
    {
     "data": {
      "text/plain": "dict_values([['eat', 'tea', 'ate'], ['tan', 'nat'], ['bat']])"
     },
     "execution_count": 4,
     "metadata": {},
     "output_type": "execute_result"
    }
   ],
   "source": [
    "strs = [\"eat\",\"tea\",\"tan\",\"ate\",\"nat\",\"bat\"]\n",
    "sol = Solution()\n",
    "sol.groupAnagrams(strs)"
   ],
   "metadata": {
    "collapsed": false,
    "pycharm": {
     "name": "#%%\n"
    }
   }
  },
  {
   "cell_type": "code",
   "execution_count": 5,
   "outputs": [
    {
     "name": "stdout",
     "output_type": "stream",
     "text": [
      "hello\n"
     ]
    }
   ],
   "source": [
    "print(\"hello\")"
   ],
   "metadata": {
    "collapsed": false,
    "pycharm": {
     "name": "#%%\n"
    }
   }
  },
  {
   "cell_type": "code",
   "execution_count": null,
   "outputs": [],
   "source": [],
   "metadata": {
    "collapsed": false,
    "pycharm": {
     "name": "#%%\n"
    }
   }
  }
 ],
 "metadata": {
  "kernelspec": {
   "display_name": "Python 3",
   "language": "python",
   "name": "python3"
  },
  "language_info": {
   "codemirror_mode": {
    "name": "ipython",
    "version": 2
   },
   "file_extension": ".py",
   "mimetype": "text/x-python",
   "name": "python",
   "nbconvert_exporter": "python",
   "pygments_lexer": "ipython2",
   "version": "2.7.6"
  }
 },
 "nbformat": 4,
 "nbformat_minor": 0
}