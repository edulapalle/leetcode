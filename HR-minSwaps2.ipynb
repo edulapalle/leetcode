{
 "cells": [
  {
   "cell_type": "code",
   "execution_count": 13,
   "metadata": {
    "collapsed": true
   },
   "outputs": [],
   "source": [
    "def minimumSwaps(arr):\n",
    "    #selection sort algorithm\n",
    "    swap_counter = 0\n",
    "    for i in range(len(arr)-1):\n",
    "        in_p = i\n",
    "        min = arr[i]# starting with respective first element for every loop\n",
    "        min_p = i\n",
    "        for j in range(i,len(arr)-1):\n",
    "            if min > arr[j+1]: #checking element\n",
    "                min = arr[j+1]\n",
    "                min_p = j+1 # note element index\n",
    "        if arr[in_p] > arr[min_p]:\n",
    "            arr[in_p],arr[min_p] = arr[min_p],arr[in_p]\n",
    "            swap_counter += 1\n",
    "    return swap_counter"
   ]
  },
  {
   "cell_type": "code",
   "execution_count": 14,
   "outputs": [
    {
     "data": {
      "text/plain": "3"
     },
     "execution_count": 14,
     "metadata": {},
     "output_type": "execute_result"
    }
   ],
   "source": [
    "q = [4,3,1,2]\n",
    "minimumSwaps(q)"
   ],
   "metadata": {
    "collapsed": false
   }
  },
  {
   "cell_type": "code",
   "execution_count": 30,
   "outputs": [],
   "source": [
    "def minimumSwaps1(arr):\n",
    "    #selection sort algorithm\n",
    "    swap_counter = 0\n",
    "    dict = {}\n",
    "    temp = arr.copy()\n",
    "    temp.sort()\n",
    "    for index,value in enumerate(temp):\n",
    "        dict[value] = index\n",
    "    for i in range(len(arr)):\n",
    "        if arr[i] != temp[i]:\n",
    "            init = arr[i]\n",
    "            ptr = dict.get(arr[i])\n",
    "            arr[i],arr[ptr] = arr[ptr],arr[i]\n",
    "            dict[init] = dict.get(temp[i])\n",
    "            dict[temp[i]] = i\n",
    "            swap_counter += 1\n",
    "    return swap_counter"
   ],
   "metadata": {
    "collapsed": false
   }
  },
  {
   "cell_type": "code",
   "execution_count": 32,
   "outputs": [
    {
     "data": {
      "text/plain": "2"
     },
     "execution_count": 32,
     "metadata": {},
     "output_type": "execute_result"
    }
   ],
   "source": [
    "q = [4,3,1,2]\n",
    "minimumSwaps1(q)"
   ],
   "metadata": {
    "collapsed": false
   }
  },
  {
   "cell_type": "code",
   "execution_count": 34,
   "outputs": [
    {
     "name": "stdout",
     "output_type": "stream",
     "text": [
      "2\n",
      "3\n",
      "4\n",
      "5\n"
     ]
    }
   ],
   "source": [],
   "metadata": {
    "collapsed": false
   }
  },
  {
   "cell_type": "code",
   "execution_count": 46,
   "outputs": [],
   "source": [],
   "metadata": {
    "collapsed": false
   }
  },
  {
   "cell_type": "code",
   "execution_count": 47,
   "outputs": [
    {
     "name": "stdout",
     "output_type": "stream",
     "text": [
      "[3, 0, 0, 7, 0, -2, 0, 0, -7, -1]\n"
     ]
    },
    {
     "data": {
      "text/plain": "10"
     },
     "execution_count": 47,
     "metadata": {},
     "output_type": "execute_result"
    }
   ],
   "source": [],
   "metadata": {
    "collapsed": false
   }
  },
  {
   "cell_type": "code",
   "execution_count": null,
   "outputs": [],
   "source": [],
   "metadata": {
    "collapsed": false
   }
  }
 ],
 "metadata": {
  "kernelspec": {
   "display_name": "Python 3",
   "language": "python",
   "name": "python3"
  },
  "language_info": {
   "codemirror_mode": {
    "name": "ipython",
    "version": 2
   },
   "file_extension": ".py",
   "mimetype": "text/x-python",
   "name": "python",
   "nbconvert_exporter": "python",
   "pygments_lexer": "ipython2",
   "version": "2.7.6"
  }
 },
 "nbformat": 4,
 "nbformat_minor": 0
}
