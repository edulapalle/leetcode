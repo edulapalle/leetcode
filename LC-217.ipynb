{
 "cells": [
  {
   "cell_type": "code",
   "execution_count": 1,
   "metadata": {
    "collapsed": false,
    "pycharm": {
     "name": "#%%\n"
    }
   },
   "outputs": [],
   "source": [
    "nums1 = [1,2,3,4,5,1]"
   ]
  },
  {
   "cell_type": "code",
   "execution_count": 2,
   "metadata": {
    "collapsed": false,
    "pycharm": {
     "name": "#%%\n"
    }
   },
   "outputs": [],
   "source": [
    "# class Solution:\n",
    "#     def __inti__(self,nums):\n",
    "#         self.nums = nums\n",
    "#         # this is not necessary, we can initiate a class normally while running.\n",
    "#     def containsDuplicate(self, nums) -> bool:\n",
    "#\n",
    "#         size = len(nums)\n",
    "#         Flag = True\n",
    "#\n",
    "#         for i in range (0,size - 1):\n",
    "#             ## here there should be a while loop.\n",
    "#             for j in range (i+1, size):\n",
    "#                 a = nums[i]\n",
    "#                 b = nums[j]\n",
    "#                 if(a == b):\n",
    "#                     Flag = False\n",
    "#                     return True\n",
    "#         return False\n",
    "#"
   ]
  },
  {
   "cell_type": "code",
   "execution_count": 3,
   "metadata": {
    "collapsed": false,
    "pycharm": {
     "name": "#%%\n"
    }
   },
   "outputs": [],
   "source": [
    "# trying the code with hashmap.\n",
    "class Solution:\n",
    "    def containsDuplicate(self, nums) -> bool:\n",
    "        newHashmap = set() # creating a hashmap\n",
    "        for value in nums:\n",
    "            if value in newHashmap:\n",
    "                return True\n",
    "            newHashmap.add(value)\n",
    "        return False"
   ]
  },
  {
   "cell_type": "code",
   "execution_count": 4,
   "metadata": {
    "collapsed": false,
    "pycharm": {
     "name": "#%%\n"
    }
   },
   "outputs": [],
   "source": [
    "newClass = Solution()"
   ]
  },
  {
   "cell_type": "code",
   "execution_count": 5,
   "metadata": {
    "collapsed": false,
    "pycharm": {
     "name": "#%%\n"
    }
   },
   "outputs": [
    {
     "name": "stdout",
     "output_type": "stream",
     "text": [
      "True\n"
     ]
    }
   ],
   "source": [
    "print(newClass.containsDuplicate(nums = nums1))"
   ]
  },
  {
   "cell_type": "code",
   "execution_count": 6,
   "metadata": {
    "collapsed": false,
    "pycharm": {
     "name": "#%%\n"
    }
   },
   "outputs": [],
   "source": [
    "# The above solution takes O(n^2) complexity.\n",
    "# alternative solution below."
   ]
  },
  {
   "cell_type": "code",
   "execution_count": 7,
   "metadata": {
    "collapsed": false,
    "pycharm": {
     "name": "#%%\n"
    }
   },
   "outputs": [],
   "source": [
    "# nums = [1,2,3,4,5,6,6]\n",
    "# #this code is to find if there are any duplicates in the given array.\n",
    "# class Solution:\n",
    "#     def containsDuplicate(self, nums) -> bool:\n",
    "#         size = len(nums)\n",
    "#         # here we are sorting the array so that, we can simply compare the\n",
    "#         #adjacent numbers and find out if they are same.\n",
    "#         nums.sort()\n",
    "#         for i in range(0,size-1):\n",
    "#             if nums[i] == nums[i+1]:\n",
    "#                 return True\n",
    "#         return False\n",
    "#\n",
    "# new_sol = Solution()\n",
    "# print(new_sol.containsDuplicate(nums))"
   ]
  },
  {
   "cell_type": "code",
   "execution_count": null,
   "metadata": {
    "collapsed": false,
    "pycharm": {
     "name": "#%%\n"
    }
   },
   "outputs": [],
   "source": [
    "class Solution1:\n",
    "    def containsDuplicate(self, nums: List[int]) -> bool:\n",
    "        dict = {}\n",
    "        for x in nums:\n",
    "            dict[x] = dict.get(x,0)+1\n",
    "        print(dict)\n",
    "        for x in range(0,len(nums)):\n",
    "            if dict[nums[x]] > 1:\n",
    "                return True\n",
    "        return False"
   ]
  }
 ],
 "metadata": {
  "interpreter": {
   "hash": "aee8b7b246df8f9039afb4144a1f6fd8d2ca17a180786b69acc140d282b71a49"
  },
  "kernelspec": {
   "display_name": "Python 3.10.4 64-bit",
   "language": "python",
   "name": "python3"
  },
  "language_info": {
   "codemirror_mode": {
    "name": "ipython",
    "version": 3
   },
   "file_extension": ".py",
   "mimetype": "text/x-python",
   "name": "python",
   "nbconvert_exporter": "python",
   "pygments_lexer": "ipython3",
   "version": "3.10.4"
  }
 },
 "nbformat": 4,
 "nbformat_minor": 0
}
